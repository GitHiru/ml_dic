{
 "cells": [
  {
   "cell_type": "markdown",
   "metadata": {},
   "source": [
    "# (Week2) 📊 行列積\n",
    "\n",
    "\n",
    "```線形代数 （Linear Algebra - リニアーアルジェブラ）```\n",
    "> 線型空間と線型変換を中心とした理論を研究する代数学の一分野。 もう少し噛み砕いた言い方だと、行列の性質や扱い方を考えた学問と捉えても問題ない。\n",
    "\n",
    "```🖋 memo```\n",
    "+ 基本的な線形代数は、機械学習を学ぶ際の必要最低限の知識。\n",
    "+ 機械学習では、PandasやNumpyで、データセット前処理として行列の演算などを行う。(「行列」の基本的な役割や扱い方の知識が必要。)\n",
    "+ 機械学習で使われるアルゴリズムをより深く理解できる。\n",
    "  - アルゴリズムの理解が深まれば、より深いレベルでのアルゴリズムの実装や、さらには正しい理解のもとチューニングを行うことも可能。\n",
    "  - 線形代数を理解することで、機械学習で行えることや得られる結果に大きく幅を持つことが可能。\n",
    "\n",
    "\n",
    "```Python\n",
    "import numpy as np\n",
    "a = np.array([[-1, 2, 3],\n",
    "              [4, -5, 6],\n",
    "              [7, 8, -9]])\n",
    "b = np.array([[0, 2, 1],\n",
    "              [0, 2, -8],\n",
    "              [2, 9, -1]])\n",
    "np.dot(a, b)\n",
    "```"
   ]
  },
  {
   "cell_type": "markdown",
   "metadata": {},
   "source": [
    "<hr>\n",
    "\n",
    "## 【問題1】行列積を手計算する\n",
    "\n",
    "```Cf.```\n",
    "+ [Qiitaの数式チートシート](https://qiita.com/PlanetMeron/items/63ac58898541cbe81ada)\n",
    "+ [LaTeXコマンド集](http://www.latex-cmd.com/)\n",
    "+ [Cloud LaTeX | Build your own LaTeX environment, in seconds](https://cloudlatex.io/ja)"
   ]
  },
  {
   "cell_type": "markdown",
   "metadata": {},
   "source": [
    "■ 行列積を求めよ\n",
    "\n",
    "$\n",
    "A = \n",
    "\\begin{bmatrix}\n",
    "-1 & 2 & 3 \\\\\n",
    "4 & -5 & 6 \\\\\n",
    "7 & 8 & -9\n",
    "\\end{bmatrix}\n",
    "\\ ,\n",
    "B = \n",
    "\\begin{bmatrix}\n",
    "0 & 2 & 1 \\\\\n",
    "0 & 2 & -8 \\\\\n",
    "2 & 9 & -1\n",
    "\\end{bmatrix}\n",
    "$\n"
   ]
  },
  {
   "cell_type": "markdown",
   "metadata": {},
   "source": [
    "`（STEP1）　Bの値を列で分割`\n",
    "\n",
    "$\n",
    "B_x = \n",
    "\\begin{bmatrix}\n",
    "0 \\\\\n",
    "0 \\\\\n",
    "2 \n",
    "\\end{bmatrix}\n",
    "\\\n",
    "B_y =\n",
    "\\begin{bmatrix}\n",
    "2 \\\\\n",
    "2 \\\\\n",
    "9 \n",
    "\\end{bmatrix}\n",
    "\\\n",
    "B_z\n",
    "\\begin{bmatrix}\n",
    "1 \\\\\n",
    "-8 \\\\\n",
    "-1 \n",
    "\\end{bmatrix}\n",
    "$\n"
   ]
  },
  {
   "cell_type": "markdown",
   "metadata": {},
   "source": [
    "`（STEP2）　スカラー倍のベクトル計算`\n",
    "\n",
    "$\n",
    "A \\times B_x = AB_x\\\\\n",
    "A \\times B_y = AB_y\\\\\n",
    "A \\times B_z = AB_z\n",
    "$\n",
    "\n",
    "> ```e.g.```\n",
    ">\n",
    ">$\n",
    "A \\times B_x = AB_x \\\\\n",
    "\\begin{bmatrix}\n",
    "-1 \\times 0 \\\\\n",
    "4 \\times 0 \\\\\n",
    "7 \\times 0\n",
    "\\end{bmatrix}\n",
    "\\ +\n",
    "\\begin{bmatrix}\n",
    "2 \\times 0 \\\\\n",
    "-5 \\times 0 \\\\\n",
    "8 \\times 0\n",
    "\\end{bmatrix}\n",
    "\\ +\n",
    "\\begin{bmatrix}\n",
    "3 \\times 2 \\\\\n",
    "6 \\times 2 \\\\\n",
    "-9 \\times 2\n",
    "\\end{bmatrix}\n",
    "\\ =\n",
    "\\begin{bmatrix}\n",
    "0 \\\\\n",
    "0 \\\\\n",
    "0\n",
    "\\end{bmatrix}\n",
    "\\\n",
    "\\begin{bmatrix}\n",
    "0 \\\\\n",
    "0 \\\\\n",
    "0\n",
    "\\end{bmatrix}\n",
    "\\\n",
    "\\begin{bmatrix}\n",
    "6 \\\\\n",
    "12 \\\\\n",
    "-18\n",
    "\\end{bmatrix}\n",
    "\\ = \n",
    "\\begin{bmatrix}\n",
    "6 \\\\\n",
    "12 \\\\\n",
    "-18\n",
    "\\end{bmatrix}\n",
    "$"
   ]
  },
  {
   "cell_type": "markdown",
   "metadata": {},
   "source": [
    "`（STEP３）其々のベクトルを足し合わせ行列に。`\n",
    "\n",
    "$\n",
    "AB_x + AB_y + AB_z \n",
    "$\n",
    "\n",
    "```i.e.```\n",
    "$ \n",
    "\\begin{bmatrix}\n",
    "6 & 29 & -20 \\\\\n",
    "12 & 52 & 38 \\\\\n",
    "-18 & -51 & -48\n",
    "\\end{bmatrix}\n",
    "$"
   ]
  },
  {
   "cell_type": "markdown",
   "metadata": {},
   "source": [
    "<hr>\n",
    "\n",
    "## 【問題2】NumPyの関数による計算\n",
    "\n",
    "\n",
    "```Cf.```\n",
    "+ [numpy.matmul — NumPy v1.16 Manual](https://numpy.org/doc/stable/reference/generated/numpy.matmul.html#numpy.matmul)\n",
    "+ [numpy.dot — NumPy v1.16 Manual](https://numpy.org/doc/stable/reference/generated/numpy.dot.html)\n",
    "+ [numpyと、アダマール積 - mucun_wuxian(note)](https://note.com/mucun_wuxian/n/n9c8e0ed3c8a6)\n",
    "+ [Python, NumPyで行列の演算（逆行列、行列式、固有値など） - note.nkmk.me](https://note.nkmk.me/python-numpy-matrix/)\n",
    "\n",
    "2次元配列の行列積\n",
    "> ```np.matmul()```、```@演算子```（公式推奨）\n",
    "\n",
    "3次元以上の行列積\n",
    "> ```np.dot()```、```np.matmul()```"
   ]
  },
  {
   "cell_type": "code",
   "execution_count": 1,
   "metadata": {},
   "outputs": [],
   "source": [
    "import numpy as np\n",
    "\n",
    "a = np.array([[-1, 2, 3],\n",
    "              [4, -5, 6],\n",
    "              [7, 8, -9]])\n",
    "b = np.array([[0, 2, 1],\n",
    "              [0, 2, -8],\n",
    "              [2, 9, -1]])"
   ]
  },
  {
   "cell_type": "code",
   "execution_count": null,
   "metadata": {},
   "outputs": [],
   "source": [
    "np.version.full_version"
   ]
  },
  {
   "cell_type": "code",
   "execution_count": 2,
   "metadata": {},
   "outputs": [
    {
     "data": {
      "text/plain": [
       "array([[  6,  29, -20],\n",
       "       [ 12,  52,  38],\n",
       "       [-18, -51, -48]])"
      ]
     },
     "execution_count": 2,
     "metadata": {},
     "output_type": "execute_result"
    }
   ],
   "source": [
    "np.dot(a, b)"
   ]
  },
  {
   "cell_type": "code",
   "execution_count": 3,
   "metadata": {},
   "outputs": [
    {
     "data": {
      "text/plain": [
       "array([[  6,  29, -20],\n",
       "       [ 12,  52,  38],\n",
       "       [-18, -51, -48]])"
      ]
     },
     "execution_count": 3,
     "metadata": {},
     "output_type": "execute_result"
    }
   ],
   "source": [
    "np.matmul(a, b)"
   ]
  },
  {
   "cell_type": "code",
   "execution_count": 4,
   "metadata": {},
   "outputs": [
    {
     "data": {
      "text/plain": [
       "array([[  6,  29, -20],\n",
       "       [ 12,  52,  38],\n",
       "       [-18, -51, -48]])"
      ]
     },
     "execution_count": 4,
     "metadata": {},
     "output_type": "execute_result"
    }
   ],
   "source": [
    "a @ b"
   ]
  },
  {
   "cell_type": "markdown",
   "metadata": {},
   "source": [
    "<hr>\n",
    "\n",
    "## 【問題3】ある要素の計算を実装\n",
    "\n",
    "$$\n",
    "\\sum_{k=0}^{2} a_{0,k} b_{k,0}\n",
    "$$"
   ]
  },
  {
   "cell_type": "code",
   "execution_count": 13,
   "metadata": {},
   "outputs": [
    {
     "name": "stdout",
     "output_type": "stream",
     "text": [
      "[[  6  29 -20]\n",
      " [ 12  52  38]\n",
      " [-18 -51 -48]]\n"
     ]
    }
   ],
   "source": [
    "res = []\n",
    "\n",
    "for i in range(a.shape[0]):\n",
    "    sum_list = []\n",
    "    for j in range(a.shape[0]):\n",
    "        sum = 0\n",
    "        for k in range(a.shape[0]):\n",
    "            sum += a[i, k]*b[k, j] # 0+0+6\n",
    "            #print(sum)\n",
    "        \n",
    "        #print(sum)\n",
    "        #print('-'*20)\n",
    "        sum_list.append(sum)       # 6 29 -20\n",
    "    #print(sum_list)\n",
    "    res.append(sum_list)           # [6 29 -20]\n",
    "\n",
    "back = np.array(res)\n",
    "print(back)"
   ]
  },
  {
   "cell_type": "markdown",
   "metadata": {},
   "source": [
    "<hr>\n",
    "\n",
    "## 【問題4】行列積を行う関数の作成\n",
    "\n",
    "$$\n",
    "c_{i,j} = \n",
    "\\sum_{k=0}^{2} a_{i,k} b_{k,j}\n",
    "$$\n",
    "\n",
    "```Cf.```\n",
    "+ [Matrix Factorization：Pythonでのチュートリアルと実装 - ENJOYWORKS](https://enjoyworks.jp/tech-blog/633)\n",
    "+ [Python, zip関数の使い方: 複数のリストの要素をまとめて取得 - note.nkmk.me](https://note.nkmk.me/python-zip-usage-for/)"
   ]
  },
  {
   "cell_type": "code",
   "execution_count": 5,
   "metadata": {},
   "outputs": [],
   "source": [
    "# 行列積を求める関数\n",
    "def make_matrix(a, b):\n",
    "\n",
    "    res = []\n",
    "\n",
    "    for i in range(a.shape[0]):\n",
    "        sum_list = []\n",
    "        for j in range(a.shape[0]):\n",
    "            sum = 0\n",
    "            for k in range(a.shape[0]):\n",
    "                sum += a[i, k]*b[k, j] # 0+0+6\n",
    "\n",
    "            sum_list.append(sum)       # 6 29 -20\n",
    "        res.append(sum_list)           # [6 29 -20]\n",
    "\n",
    "    back = np.array(res)\n",
    "    return back\n"
   ]
  },
  {
   "cell_type": "code",
   "execution_count": 26,
   "metadata": {},
   "outputs": [
    {
     "name": "stdout",
     "output_type": "stream",
     "text": [
      "[[  6  29 -20]\n",
      " [ 12  52  38]\n",
      " [-18 -51 -48]] (3, 3) <class 'numpy.ndarray'>\n"
     ]
    },
    {
     "data": {
      "text/plain": [
       "array([[  6,  29, -20],\n",
       "       [ 12,  52,  38],\n",
       "       [-18, -51, -48]])"
      ]
     },
     "execution_count": 26,
     "metadata": {},
     "output_type": "execute_result"
    }
   ],
   "source": [
    "x =  make_matrix(a, b)\n",
    "print(x, x.shape, type(x))\n",
    "x"
   ]
  },
  {
   "cell_type": "markdown",
   "metadata": {},
   "source": [
    "```memo```\n",
    "for文での行列計算理解\n",
    "\n",
    "<img src='https://t.gyazo.com/teams/diveintocode/129123df5242c9e768513f5e8b5ef24f.png' width=50% style=\"text-align:center;\"/>\n",
    "\n",
    "\n",
    "```Python\n",
    "a[0,0]*b[0,0]\n",
    "a[0,1]*b[1,0]  = 6\n",
    "a[0,2]*b[2,0]\n",
    "\n",
    "a[0,0]*b[0,1]\n",
    "a[0,1]*b[1,1]  = 29\n",
    "a[0,2]*b[2,1]\n",
    "\n",
    "a[0,0]*b[0,2]\n",
    "a[0,1]*b[1,2] = -20\n",
    "a[0,2]*b[2,2]\n",
    "\n",
    "a[1,0]*b[0,0]\n",
    "a[1,1]*b[1,0]  = 12\n",
    "a[1,2]*b[2,0]\n",
    "\n",
    "a[1,0]*b[0,1]\n",
    "a[1,1]*b[1,1]  = 52\n",
    "a[1,2]*b[2,1]\n",
    "\n",
    "a[1,0]*b[0,2]\n",
    "a[1,1]*b[1,2] = 38\n",
    "a[1,2]*b[2,2]\n",
    "```"
   ]
  },
  {
   "cell_type": "markdown",
   "metadata": {},
   "source": [
    "<hr>\n",
    "\n",
    "## 【問題5】計算が定義されない入力を判定する\n",
    "\n",
    "```Cf.```\n",
    "+ [Pythonのif文による条件分岐の書き方 - note.nkmk.me](https://note.nkmk.me/python-if-elif-else/)\n",
    "\n",
    "```memo```\n",
    "+ 次元の異なるベクトル計算は不可。\n",
    ">```e.g.```\n",
    ">\n",
    ">$\n",
    "（計算可能）\n",
    "\\\\\n",
    "3row ３col\n",
    "\\begin{bmatrix}\n",
    "a & b & c \\\\\n",
    "d & e & f \\\\\n",
    "g & h & i\n",
    "\\end{bmatrix}\n",
    "3row 1col\n",
    "\\begin{bmatrix}\n",
    "a \\\\\n",
    "b \\\\\n",
    "c\n",
    "\\end{bmatrix}\n",
    "\\,\n",
    "\\\\\n",
    "(計算不可)\n",
    "\\\\\n",
    "２row ４col\n",
    "\\begin{bmatrix}\n",
    "a & b \\\\\n",
    "c & d \\\\\n",
    "e & f \\\\\n",
    "g & h \n",
    "\\end{bmatrix}\n",
    "１row ４col\n",
    "\\begin{bmatrix}\n",
    "a & b & c & d\n",
    "\\end{bmatrix}\\\\\n",
    "この場合、「4row1col」なら可能\n",
    "$"
   ]
  },
  {
   "cell_type": "code",
   "execution_count": 23,
   "metadata": {},
   "outputs": [],
   "source": [
    "d = np.array([[-1, 2, 3], \n",
    "              [4, -5, 6]])\n",
    "e = np.array([[-9, 8, 7], \n",
    "              [6, -5, 4]])"
   ]
  },
  {
   "cell_type": "code",
   "execution_count": 16,
   "metadata": {},
   "outputs": [
    {
     "name": "stdout",
     "output_type": "stream",
     "text": [
      "(2, 3)\n",
      "(2, 3)\n"
     ]
    }
   ],
   "source": [
    "print(d.shape)\n",
    "print(e.shape)"
   ]
  },
  {
   "cell_type": "code",
   "execution_count": 20,
   "metadata": {},
   "outputs": [],
   "source": [
    "def make_matrix(a, b):\n",
    "    if a.shape[1]!= b.shape[0]:\n",
    "        print('[warnig] Different dimensions.')\n",
    "    \n",
    "    else :\n",
    "        res = []\n",
    "\n",
    "        for i in range(a.shape[0]):\n",
    "            sum_list = []\n",
    "            for j in range(a.shape[0]):\n",
    "                sum = 0\n",
    "                for k in range(a.shape[0]):\n",
    "                    sum += a[i, k]*b[k, j] # 0+0+6\n",
    "\n",
    "                sum_list.append(sum)       # 6 29 -20\n",
    "            res.append(sum_list)           # [6 29 -20]\n",
    "\n",
    "        back = np.array(res)\n",
    "        return back"
   ]
  },
  {
   "cell_type": "code",
   "execution_count": 21,
   "metadata": {},
   "outputs": [
    {
     "name": "stdout",
     "output_type": "stream",
     "text": [
      "[warnig] Different dimensions.\n"
     ]
    }
   ],
   "source": [
    "make_matrix(d, e)"
   ]
  },
  {
   "cell_type": "markdown",
   "metadata": {},
   "source": [
    "<hr>\n",
    "\n",
    "## 【問題6】転置"
   ]
  },
  {
   "cell_type": "code",
   "execution_count": 22,
   "metadata": {},
   "outputs": [
    {
     "data": {
      "text/plain": [
       "array([[ 25, -16],\n",
       "       [-76,  49]])"
      ]
     },
     "execution_count": 22,
     "metadata": {},
     "output_type": "execute_result"
    }
   ],
   "source": [
    "make_matrix(d, e.T)"
   ]
  }
 ],
 "metadata": {
  "kernelspec": {
   "display_name": "Python 3",
   "language": "python",
   "name": "python3"
  },
  "language_info": {
   "codemirror_mode": {
    "name": "ipython",
    "version": 3
   },
   "file_extension": ".py",
   "mimetype": "text/x-python",
   "name": "python",
   "nbconvert_exporter": "python",
   "pygments_lexer": "ipython3",
   "version": "3.8.5"
  }
 },
 "nbformat": 4,
 "nbformat_minor": 4
}
