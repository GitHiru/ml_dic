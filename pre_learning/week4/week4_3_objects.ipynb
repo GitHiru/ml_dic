{
 "cells": [
  {
   "cell_type": "markdown",
   "metadata": {},
   "source": [
    "### (week4) Classfication\n",
    "> `aim`\n",
    "> + クラスを利用したコードを読み書きできるようにする\n",
    "\n",
    "> `Cf.`\n",
    "> + [sklearn.preprocessing.StandardScaler — scikit-learn 0.21.3 documentation](https://scikit-learn.org/stable/modules/generated/sklearn.preprocessing.StandardScaler.html)\n",
    "> "
   ]
  },
  {
   "cell_type": "markdown",
   "metadata": {},
   "source": [
    "##### - samplecode"
   ]
  },
  {
   "cell_type": "code",
   "execution_count": 1,
   "metadata": {},
   "outputs": [
    {
     "name": "stdout",
     "output_type": "stream",
     "text": [
      "平均 : [4.86 3.31 1.45 0.22]\n",
      "分散 : [0.0764 0.0849 0.0105 0.0056]\n"
     ]
    }
   ],
   "source": [
    "import numpy as np\n",
    "from sklearn.preprocessing import StandardScaler\n",
    "from sklearn.datasets import load_iris\n",
    "data = load_iris()\n",
    "X = data.data[:10]\n",
    "scaler = StandardScaler()\n",
    "scaler.fit(X)\n",
    "print(\"平均 :\", scaler.mean_)\n",
    "print(\"分散 :\", scaler.var_)\n",
    "X_std = scaler.transform(X)"
   ]
  },
  {
   "cell_type": "markdown",
   "metadata": {},
   "source": [
    "#### 【問題1】これまで利用してきたクラスの列挙\n",
    "> Pandas、matplotlib、scikit-learnからそれぞれ1つ以上見つけてください。"
   ]
  },
  {
   "cell_type": "markdown",
   "metadata": {},
   "source": [
    ">`Pandas`\n",
    "> + DataFrame()\n",
    "> + Serise()\n",
    "\n",
    ">`matplotlib`\n",
    "> + Figure\n",
    "> + Axes\n",
    "\n",
    ">`scikit-learn`\n",
    "> + LogisticRegresion\n",
    "> + SVM (SVR, SVC)"
   ]
  },
  {
   "cell_type": "markdown",
   "metadata": {},
   "source": [
    "#### 【問題2】これまで利用してきたメソッドやインスタンス変数の列挙\n",
    ">      これまでの課題で利用してきたコードの中でどのようなメソッドやインスタンス変数があったかを答えてください。\n",
    ">      最低でもそれぞれ5つ以上答えてください。"
   ]
  },
  {
   "cell_type": "markdown",
   "metadata": {},
   "source": [
    "> `メソッド`\n",
    "> + sum()\n",
    "> + min(), max()\n",
    "> + valus().tolist()\n",
    "> + sort_values()\n",
    "> + loc[], iloc[]\n",
    "\n",
    "> `インスタンス変数`\n",
    "> + np.shape\n",
    "> + np.dtype\n",
    "> + pd.copy\n",
    "> + pd.info\n",
    "> + pd.columns"
   ]
  },
  {
   "cell_type": "markdown",
   "metadata": {},
   "source": [
    "#### 【問題3】標準化クラスをスクラッチで作成\n",
    "> `Cf.`\n",
    "> + [分散の意味と二通りの計算方法 - 高校数学の美しい物語](https://mathtrain.jp/variance#ad)\n",
    "> + [sklearn StandardScaler で標準化の効果を確かめる－python - コード７区](http://ailaby.com/scaler/#id1_1)\n",
    "> + [標準偏差の意味と求め方 - 公式と計算例 - Sci-pursuit](https://sci-pursuit.com/math/statistics/standard-deviation.html)\n",
    "> + [平方根（ルート）の計算や問題の解き方を完璧に理解しよう！](https://www.studyplus.jp/348)\n",
    "\n",
    "> + [[source]](https://github.com/scikit-learn/scikit-learn/blob/7389dba/sklearn/preprocessing/data.py#L480)"
   ]
  },
  {
   "cell_type": "code",
   "execution_count": 2,
   "metadata": {},
   "outputs": [],
   "source": [
    "# 計算フルスクラッチ\n",
    "class ScratchStandardScaler_1():\n",
    "\n",
    "    def fit(self, X):\n",
    "        self.mean_ = sum(X) / len(X)\n",
    "        self.var_ = sum((X - self.mean_)**2)/len(X)\n",
    "        \n",
    "    def transform(self, X):\n",
    "        X_scaled = (X - self.mean_) / (self.var_ )**0.2\n",
    "        \n",
    "        return X_scaled"
   ]
  },
  {
   "cell_type": "code",
   "execution_count": 6,
   "metadata": {},
   "outputs": [],
   "source": [
    "# NumPy\n",
    "import numpy as np\n",
    "\n",
    "class ScratchStandardScaler_2():\n",
    "\n",
    "    def fit(self, X):\n",
    "        self.mean_ = np.mean(X, axis=0)\n",
    "        self.var_ = np.var(X, axis=0)\n",
    "        \n",
    "    def transform(self, X):\n",
    "        X_scaled = (X - self.mean_) / np.std(X, axis=0)\n",
    "        \n",
    "        return X_scaled"
   ]
  },
  {
   "cell_type": "code",
   "execution_count": 7,
   "metadata": {},
   "outputs": [
    {
     "name": "stdout",
     "output_type": "stream",
     "text": [
      "平均 : [4.86 3.31 1.45 0.22]\n",
      "分散 : [0.0764 0.0849 0.0105 0.0056]\n",
      "[[ 0.40141405  0.31115162 -0.12437473 -0.05641471]\n",
      " [ 0.06690234 -0.50766843 -0.12437473 -0.05641471]\n",
      " [-0.26760937 -0.18014041 -0.37312418 -0.05641471]\n",
      " [-0.43486522 -0.34390442  0.12437473 -0.05641471]\n",
      " [ 0.2341582   0.47491563 -0.12437473 -0.05641471]\n",
      " [ 0.90318161  0.96620765  0.62187364  0.50773243]\n",
      " [-0.43486522  0.14738761 -0.12437473  0.22565886]\n",
      " [ 0.2341582   0.14738761  0.12437473 -0.05641471]\n",
      " [-0.76937693 -0.67143244 -0.12437473 -0.05641471]\n",
      " [ 0.06690234 -0.34390442  0.12437473 -0.33848828]]\n"
     ]
    }
   ],
   "source": [
    "data = load_iris()\n",
    "X = data.data[:10]\n",
    "scratch_scaler = ScratchStandardScaler_1()\n",
    "scratch_scaler.fit(X)\n",
    "\n",
    "print(\"平均 : {}\".format(scratch_scaler.mean_))\n",
    "print(\"分散 : {}\".format(scratch_scaler.var_))\n",
    "X_std = scratch_scaler.transform(X)\n",
    "print(X_std)"
   ]
  },
  {
   "cell_type": "code",
   "execution_count": 8,
   "metadata": {},
   "outputs": [
    {
     "name": "stdout",
     "output_type": "stream",
     "text": [
      "平均 : [4.86 3.31 1.45 0.22]\n",
      "分散 : [0.0764 0.0849 0.0105 0.0056]\n",
      "[[ 0.86828953  0.65207831 -0.48795004 -0.26726124]\n",
      " [ 0.14471492 -1.06391725 -0.48795004 -0.26726124]\n",
      " [-0.57885968 -0.37751902 -1.46385011 -0.26726124]\n",
      " [-0.94064699 -0.72071813  0.48795004 -0.26726124]\n",
      " [ 0.50650222  0.99527742 -0.48795004 -0.26726124]\n",
      " [ 1.95365143  2.02487476  2.43975018  2.40535118]\n",
      " [-0.94064699  0.3088792  -0.48795004  1.06904497]\n",
      " [ 0.50650222  0.3088792   0.48795004 -0.26726124]\n",
      " [-1.66422159 -1.40711636 -0.48795004 -0.26726124]\n",
      " [ 0.14471492 -0.72071813  0.48795004 -1.60356745]]\n"
     ]
    }
   ],
   "source": [
    "data = load_iris()\n",
    "X = data.data[:10]\n",
    "scratch_scaler = ScratchStandardScaler_2()\n",
    "scratch_scaler.fit(X)\n",
    "\n",
    "print(\"平均 : {}\".format(scratch_scaler.mean_))\n",
    "print(\"分散 : {}\".format(scratch_scaler.var_))\n",
    "X_std = scratch_scaler.transform(X)\n",
    "print(X_std)"
   ]
  },
  {
   "cell_type": "markdown",
   "metadata": {},
   "source": [
    "#### 【問題4】 四則演算を行うクラスの作成"
   ]
  },
  {
   "cell_type": "markdown",
   "metadata": {},
   "source": [
    "> (特殊メソッド) ```__init__``` コンストラクタの理解 "
   ]
  },
  {
   "cell_type": "code",
   "execution_count": 27,
   "metadata": {},
   "outputs": [
    {
     "name": "stdout",
     "output_type": "stream",
     "text": [
      "初期値5が設定されました\n",
      "init value : 5\n",
      "add value : 8\n",
      "pul value : 5\n",
      "mul value : 15\n",
      "div value : 5.0\n"
     ]
    }
   ],
   "source": [
    "class ExampleClass():\n",
    "    def __init__(self, value):\n",
    "        if type(value) != int and type(value) != float :\n",
    "            raise ValueError(\"Plz input 'int' or 'float' (Ŏ艸Ŏ)...\")\n",
    "        else:\n",
    "            self.value = value\n",
    "            print(\"初期値{}が設定されました\".format(self.value))\n",
    "        \n",
    "    def add(self, value2):\n",
    "        self.value += value2\n",
    "        \n",
    "    def pul(self, value3):\n",
    "        self.value -= value3\n",
    "        \n",
    "    def mul(self, value4):\n",
    "        self.value *= value4\n",
    "        \n",
    "    def div(self, value5):\n",
    "        self.value /= value5\n",
    "\n",
    "example = ExampleClass(5) # インスタンス\n",
    "print(\"init value : {}\".format(example.value)) # コンストラクタが呼び出された\n",
    "\n",
    "example.add(3)\n",
    "print(\"add value : {}\".format(example.value)) # addメソッドが呼び出された\n",
    "example.pul(3)\n",
    "print(\"pul value : {}\".format(example.value))\n",
    "example.mul(3)\n",
    "print(\"mul value : {}\".format(example.value)) # addメソッドが呼び出された\n",
    "example.div(3)\n",
    "print(\"div value : {}\".format(example.value)) # addメソッドが呼び出された"
   ]
  },
  {
   "cell_type": "code",
   "execution_count": 28,
   "metadata": {},
   "outputs": [
    {
     "name": "stdout",
     "output_type": "stream",
     "text": [
      "初期値5.0が設定されました\n",
      "init value : 5.0\n"
     ]
    }
   ],
   "source": [
    "example = ExampleClass(5.0) # インスタンス\n",
    "print(\"init value : {}\".format(example.value)) # コンストラクタが呼び出された"
   ]
  },
  {
   "cell_type": "code",
   "execution_count": 29,
   "metadata": {},
   "outputs": [
    {
     "ename": "ValueError",
     "evalue": "Plz input 'int' or 'float' (Ŏ艸Ŏ)...",
     "output_type": "error",
     "traceback": [
      "\u001b[0;31m----------------------------------------------------------\u001b[0m",
      "\u001b[0;31mValueError\u001b[0m               Traceback (most recent call last)",
      "\u001b[0;32m<ipython-input-29-bc777fc9389b>\u001b[0m in \u001b[0;36m<module>\u001b[0;34m\u001b[0m\n\u001b[0;32m----> 1\u001b[0;31m \u001b[0mexample\u001b[0m \u001b[0;34m=\u001b[0m \u001b[0mExampleClass\u001b[0m\u001b[0;34m(\u001b[0m\u001b[0;34m\"5\"\u001b[0m\u001b[0;34m)\u001b[0m \u001b[0;31m# インスタンス\u001b[0m\u001b[0;34m\u001b[0m\u001b[0;34m\u001b[0m\u001b[0m\n\u001b[0m\u001b[1;32m      2\u001b[0m \u001b[0mprint\u001b[0m\u001b[0;34m(\u001b[0m\u001b[0;34m\"init value : {}\"\u001b[0m\u001b[0;34m.\u001b[0m\u001b[0mformat\u001b[0m\u001b[0;34m(\u001b[0m\u001b[0mexample\u001b[0m\u001b[0;34m.\u001b[0m\u001b[0mvalue\u001b[0m\u001b[0;34m)\u001b[0m\u001b[0;34m)\u001b[0m \u001b[0;31m# コンストラクタが呼び出された\u001b[0m\u001b[0;34m\u001b[0m\u001b[0;34m\u001b[0m\u001b[0m\n",
      "\u001b[0;32m<ipython-input-27-779e829994db>\u001b[0m in \u001b[0;36m__init__\u001b[0;34m(self, value)\u001b[0m\n\u001b[1;32m      2\u001b[0m     \u001b[0;32mdef\u001b[0m \u001b[0m__init__\u001b[0m\u001b[0;34m(\u001b[0m\u001b[0mself\u001b[0m\u001b[0;34m,\u001b[0m \u001b[0mvalue\u001b[0m\u001b[0;34m)\u001b[0m\u001b[0;34m:\u001b[0m\u001b[0;34m\u001b[0m\u001b[0;34m\u001b[0m\u001b[0m\n\u001b[1;32m      3\u001b[0m         \u001b[0;32mif\u001b[0m \u001b[0mtype\u001b[0m\u001b[0;34m(\u001b[0m\u001b[0mvalue\u001b[0m\u001b[0;34m)\u001b[0m \u001b[0;34m!=\u001b[0m \u001b[0mint\u001b[0m \u001b[0;32mand\u001b[0m \u001b[0mtype\u001b[0m\u001b[0;34m(\u001b[0m\u001b[0mvalue\u001b[0m\u001b[0;34m)\u001b[0m \u001b[0;34m!=\u001b[0m \u001b[0mfloat\u001b[0m \u001b[0;34m:\u001b[0m\u001b[0;34m\u001b[0m\u001b[0;34m\u001b[0m\u001b[0m\n\u001b[0;32m----> 4\u001b[0;31m             \u001b[0;32mraise\u001b[0m \u001b[0mValueError\u001b[0m\u001b[0;34m(\u001b[0m\u001b[0;34m\"Plz input 'int' or 'float' (Ŏ艸Ŏ)...\"\u001b[0m\u001b[0;34m)\u001b[0m\u001b[0;34m\u001b[0m\u001b[0;34m\u001b[0m\u001b[0m\n\u001b[0m\u001b[1;32m      5\u001b[0m         \u001b[0;32melse\u001b[0m\u001b[0;34m:\u001b[0m\u001b[0;34m\u001b[0m\u001b[0;34m\u001b[0m\u001b[0m\n\u001b[1;32m      6\u001b[0m             \u001b[0mself\u001b[0m\u001b[0;34m.\u001b[0m\u001b[0mvalue\u001b[0m \u001b[0;34m=\u001b[0m \u001b[0mvalue\u001b[0m\u001b[0;34m\u001b[0m\u001b[0;34m\u001b[0m\u001b[0m\n",
      "\u001b[0;31mValueError\u001b[0m: Plz input 'int' or 'float' (Ŏ艸Ŏ)..."
     ]
    }
   ],
   "source": [
    "example = ExampleClass(\"5\") # インスタンス\n",
    "print(\"init value : {}\".format(example.value)) # コンストラクタが呼び出された"
   ]
  }
 ],
 "metadata": {
  "kernelspec": {
   "display_name": "Python 3",
   "language": "python",
   "name": "python3"
  },
  "language_info": {
   "codemirror_mode": {
    "name": "ipython",
    "version": 3
   },
   "file_extension": ".py",
   "mimetype": "text/x-python",
   "name": "python",
   "nbconvert_exporter": "python",
   "pygments_lexer": "ipython3",
   "version": "3.8.5"
  }
 },
 "nbformat": 4,
 "nbformat_minor": 4
}
