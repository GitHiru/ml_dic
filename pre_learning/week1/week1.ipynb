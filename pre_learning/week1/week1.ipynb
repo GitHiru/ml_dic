{
 "cells": [
  {
   "cell_type": "markdown",
   "metadata": {},
   "source": [
    "# Week01(提出用)"
   ]
  },
  {
   "cell_type": "code",
   "execution_count": 6,
   "metadata": {},
   "outputs": [
    {
     "name": "stdout",
     "output_type": "stream",
     "text": [
      "問題１： 厚さ： 703687441.77664メートル\n",
      "問題２： 厚さ： 70.37万キロメートル\n",
      "問題４： time: 0.00044918[s]\n",
      "問題３： 厚さ： 70.37万キロメートル\n",
      "問題４： time: 0.00091195[s]\n",
      "問題６:\n"
     ]
    },
    {
     "data": {
      "image/png": "[encoded data removed]",
      "text/plain": [
       "<Figure size 432x288 with 1 Axes>"
      ]
     },
     "metadata": {
      "needs_background": "light"
     },
     "output_type": "display_data"
    },
    {
     "name": "stdout",
     "output_type": "stream",
     "text": [
      "問題7:\n"
     ]
    },
    {
     "data": {
      "image/png": "[encoded data removed]",
      "text/plain": [
       "<Figure size 432x288 with 1 Axes>"
      ]
     },
     "metadata": {
      "needs_background": "light"
     },
     "output_type": "display_data"
    },
    {
     "name": "stdout",
     "output_type": "stream",
     "text": [
      "考察：３５回折り曲げた段階で指数関数的に急増している。\n"
     ]
    }
   ],
   "source": [
    "import time\n",
    "import matplotlib.pyplot as plt\n",
    "%matplotlib inline\n",
    "\n",
    "start = time.time()\n",
    "\n",
    "\"\"\"\n",
    "紙を43回折った時の厚さを計算するコード\n",
    "\"\"\"\n",
    "THICKNESS = 0.00008 #初期値:紙の厚み\n",
    "n_fold = 43\n",
    "\n",
    "folded_thickness = THICKNESS * (2**n_fold)\n",
    "print('問題１：', '厚さ： {}メートル'.format(folded_thickness))\n",
    "\n",
    "# メートルをキロメートルに変換して小数点以下2桁で表示する\n",
    "print('問題２：', '厚さ： {:.2f}万キロメートル'.format(folded_thickness/1000/10000))\n",
    "elapses_time = time.time() - start\n",
    "print('問題４：', \"time: {:.8f}[s]\".format(elapses_time))\n",
    "\n",
    "\n",
    "def find_thickness(thickness, iterations):\n",
    "    folded_thickness = thickness\n",
    "    counter = [] # 問題５：\n",
    "    \n",
    "    for i in range(iterations):\n",
    "        folded_thickness = folded_thickness*2\n",
    "        counter.append(folded_thickness)\n",
    "    res = folded_thickness\n",
    "    return res, counter\n",
    "\n",
    "iterations = 43\n",
    "res, folded_thickness = find_thickness(THICKNESS, iterations)\n",
    "\n",
    "print('問題３：', \"厚さ：{: .２f}万キロメートル\".format(res/1000/10000))\n",
    "\n",
    "elapses_time = time.time() - start\n",
    "print('問題４：', \"time: {:.8f}[s]\".format(elapses_time))\n",
    "\n",
    "\n",
    "\"\"\"\n",
    "グラフを表示する。タイトルと軸ラベル名付き。\n",
    "\"\"\"\n",
    "print('問題６:')\n",
    "plt.title(\"thickness of folded paper\")\n",
    "plt.xlabel(\"number of folds\")\n",
    "plt.ylabel(\"thickness[km]\")\n",
    "plt.plot(folded_thickness)\n",
    "plt.show()\n",
    "\n",
    "print('問題7:')\n",
    "plt.title(\"thickness of folded paper\")\n",
    "plt.xlabel(\"number of folds\")\n",
    "plt.ylabel(\"thickness[km]\")\n",
    "plt.plot(folded_thickness, 'ro') # 「リスト名」のところにリストの変数名を入れる\n",
    "plt.tick_params(labelsize=20)    # 軸の値に関する設定を行う\n",
    "plt.grid(True)\n",
    "plt.show()\n",
    "print('考察：', '３５回折り曲げた段階で指数関数的に急増している。', sep='')"
   ]
  },
  {
   "cell_type": "code",
   "execution_count": 3,
   "metadata": {},
   "outputs": [
    {
     "name": "stdout",
     "output_type": "stream",
     "text": [
      "4.16 µs ± 49.9 ns per loop (mean ± std. dev. of 7 runs, 100000 loops each)\n"
     ]
    }
   ],
   "source": [
    "%%timeit\n",
    "THICKNESS = 0.00008\n",
    "iterations = 43\n",
    "_, folded_thickness = find_thickness(THICKNESS, iterations)"
   ]
  }
 ],
 "metadata": {
  "kernelspec": {
   "display_name": "Python 3",
   "language": "python",
   "name": "python3"
  },
  "language_info": {
   "codemirror_mode": {
    "name": "ipython",
    "version": 3
   },
   "file_extension": ".py",
   "mimetype": "text/x-python",
   "name": "python",
   "nbconvert_exporter": "python",
   "pygments_lexer": "ipython3",
   "version": "3.8.5"
  }
 },
 "nbformat": 4,
 "nbformat_minor": 4
}
