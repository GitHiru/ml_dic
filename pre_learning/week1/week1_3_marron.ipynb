{
 "cells": [
  {
   "cell_type": "markdown",
   "metadata": {},
   "source": [
    "## (Week1) 🌰栗饅頭問題"
   ]
  },
  {
   "cell_type": "markdown",
   "metadata": {},
   "source": [
    "### 1.太陽系の体積定義\n",
    "<p style=left>\n",
    " <img src='https://the-universe-lab.com/wp-content/uploads/2020/03/800px-Kuiper_belt_-_Oort_cloud-en.svg_.png' width=25%>\n",
    "</p>\n",
    "\n",
    "上図を参考に太陽系を球体と見立てます。\n",
    "\n",
    "\n",
    "### 1-1.球体の体積の求め方\n",
    "\n",
    "$V = 4/3Πr^3$  → `体積 = 4 × 3.14 × 半径 × 半径 × 半径 ÷ 3`\n",
    "\n",
    "cf. [体積の求め方 - 計算公式一覧](https://sci-pursuit.com/math/volume-index.html#circular-cone)"
   ]
  },
  {
   "cell_type": "code",
   "execution_count": 1,
   "metadata": {},
   "outputs": [],
   "source": [
    "# 体積を求める関数\n",
    "import numpy as np\n",
    "\n",
    "def find_volume(radius):\n",
    "    volume = 4 * np.pi * (radius**3) / 3\n",
    "    return volume #[m^3]"
   ]
  },
  {
   "cell_type": "code",
   "execution_count": 2,
   "metadata": {},
   "outputs": [],
   "source": [
    "# 栗饅頭、太陽系の半径(radius)[m]\n",
    "marron = 0.02 #[m]\n",
    "so_system = 1.49007e+16 #[m]"
   ]
  },
  {
   "cell_type": "code",
   "execution_count": 3,
   "metadata": {},
   "outputs": [
    {
     "name": "stdout",
     "output_type": "stream",
     "text": [
      "179回：895分後には、2.5677209241831433e+49[m^3]\n"
     ]
    }
   ],
   "source": [
    "# 栗饅頭、太陽系の体積を求めて、バイバインを何回使用したら栗饅頭が太陽系を埋め尽くすか？\n",
    "marron_vol = find_volume(marron)\n",
    "so_system_vol = find_volume(so_system)\n",
    "time = 0\n",
    "count = 0\n",
    "\n",
    "while marron_vol < so_system_vol:\n",
    "    time += 5\n",
    "    marron_vol *= 2\n",
    "    count += 1\n",
    "\n",
    "print(count,'回：', time, '分後には、', marron_vol, '[m^3]', sep='')"
   ]
  },
  {
   "cell_type": "code",
   "execution_count": 4,
   "metadata": {},
   "outputs": [],
   "source": [
    "# バイバイン関数\n",
    "def baibain(initial , target):\n",
    "    i_vol = find_volume(initial)\n",
    "    t_vol = find_volume(target)\n",
    "    time = 0\n",
    "    count = 0\n",
    "    list_time = []\n",
    "    list_vol = []\n",
    "    \n",
    "    while i_vol < t_vol:\n",
    "        count += 1\n",
    "        time += 5\n",
    "        i_vol *= 2\n",
    "        list_time.append(time)\n",
    "        list_vol.append(i_vol)\n",
    "\n",
    "    return count, time, i_vol, list_time, list_vol"
   ]
  },
  {
   "cell_type": "code",
   "execution_count": 7,
   "metadata": {},
   "outputs": [
    {
     "name": "stdout",
     "output_type": "stream",
     "text": [
      "38 回： 190 分後には、 9211247.0729537 [m^3]\n"
     ]
    },
    {
     "data": {
      "image/png": "[encoded data removed]",
      "text/plain": [
       "<Figure size 432x288 with 1 Axes>"
      ]
     },
     "metadata": {
      "needs_background": "light"
     },
     "output_type": "display_data"
    }
   ],
   "source": [
    "import matplotlib.pyplot as plt\n",
    "%matplotlib inline\n",
    "\n",
    "\n",
    "# 実行\n",
    "initial = 0.02 #任意\n",
    "target = 122 #任意\n",
    "\n",
    "count, time, i_vol, list_time, list_vol = baibain(initial, target)\n",
    "print(count,'回：', time, '分後には、', i_vol, '[m^3]')\n",
    "\n",
    "\n",
    "plt.plot(list_time, list_vol, 'r')\n",
    "plt.xlabel('Minute')\n",
    "plt.ylabel('Volume')\n",
    "plt.grid(True)\n",
    "plt.show()"
   ]
  }
 ],
 "metadata": {
  "kernelspec": {
   "display_name": "Python 3",
   "language": "python",
   "name": "python3"
  },
  "language_info": {
   "codemirror_mode": {
    "name": "ipython",
    "version": 3
   },
   "file_extension": ".py",
   "mimetype": "text/x-python",
   "name": "python",
   "nbconvert_exporter": "python",
   "pygments_lexer": "ipython3",
   "version": "3.8.5"
  }
 },
 "nbformat": 4,
 "nbformat_minor": 4
}
