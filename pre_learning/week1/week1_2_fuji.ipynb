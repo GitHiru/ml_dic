{
 "cells": [
  {
   "cell_type": "markdown",
   "metadata": {},
   "source": [
    "# (week1)🗻富士山問題"
   ]
  },
  {
   "cell_type": "markdown",
   "metadata": {},
   "source": [
    "---\n",
    "## 【問題1】富士山を超える最小の折る回数\n",
    "```Cf.```\n",
    "+ [Pythonの「while True:」による無限ループの解説 - HEADBOOST](https://www.headboost.jp/python-while-true/)"
   ]
  },
  {
   "cell_type": "code",
   "execution_count": 1,
   "metadata": {},
   "outputs": [
    {
     "name": "stdout",
     "output_type": "stream",
     "text": [
      "1回/ 厚み：0.00016m\n",
      "2回/ 厚み：0.00032m\n",
      "3回/ 厚み：0.00064m\n",
      "4回/ 厚み：0.00128m\n",
      "5回/ 厚み：0.00256m\n",
      "6回/ 厚み：0.00512m\n",
      "7回/ 厚み：0.01024m\n",
      "8回/ 厚み：0.02048m\n",
      "9回/ 厚み：0.04096m\n",
      "10回/ 厚み：0.08192m\n",
      "11回/ 厚み：0.16384m\n",
      "12回/ 厚み：0.32768m\n",
      "13回/ 厚み：0.65536m\n",
      "14回/ 厚み：1.31072m\n",
      "15回/ 厚み：2.62144m\n",
      "16回/ 厚み：5.24288m\n",
      "17回/ 厚み：10.48576m\n",
      "18回/ 厚み：20.97152m\n",
      "19回/ 厚み：41.94304m\n",
      "20回/ 厚み：83.88608m\n",
      "21回/ 厚み：167.77216m\n",
      "22回/ 厚み：335.54432m\n",
      "23回/ 厚み：671.08864m\n",
      "24回/ 厚み：1342.17728m\n",
      "25回/ 厚み：2684.35456m\n",
      "26回/ 厚み：5368.70912m\n",
      "------------------------------\n",
      "26 回で山頂に ⛰\n"
     ]
    }
   ],
   "source": [
    "FUJI = 3776        # 富士山までの距離(m)\n",
    "paper = 0.00008    # 紙の厚さ（m）\n",
    "count = 0          # 折り曲げた回数\n",
    "\n",
    "while paper < FUJI:\n",
    "    paper = paper*2\n",
    "    count += 1\n",
    "    print(count, '回', '/ 厚み：', paper, 'm', sep='')\n",
    "\n",
    "print('-'*30)\n",
    "print(count, '回で山頂に ⛰')"
   ]
  },
  {
   "cell_type": "markdown",
   "metadata": {},
   "source": [
    "---\n",
    "## 【問題2】任意の厚さに対応した関数を作成"
   ]
  },
  {
   "cell_type": "code",
   "execution_count": 2,
   "metadata": {},
   "outputs": [],
   "source": [
    "# 関数化 厚み\n",
    "def achieve_target(x, y):\n",
    "    count = 0\n",
    "    while x < y:\n",
    "        x = x*2\n",
    "        count += 1\n",
    "    return x, count"
   ]
  },
  {
   "cell_type": "code",
   "execution_count": 3,
   "metadata": {},
   "outputs": [
    {
     "name": "stdout",
     "output_type": "stream",
     "text": [
      "26 回　 厚さ：5368.71[m]\n"
     ]
    }
   ],
   "source": [
    "# 関数実行\n",
    "target = 3776 #（任意変更）\n",
    "paper = 0.00008 #（任意変更）\n",
    "\n",
    "res_target, count = achieve_target(paper, target)\n",
    "print(count,'回　', '厚さ：{:.2f}[m]'.format(res_target))"
   ]
  },
  {
   "cell_type": "code",
   "execution_count": 4,
   "metadata": {},
   "outputs": [
    {
     "name": "stdout",
     "output_type": "stream",
     "text": [
      "49 回　 厚さ：45035996273.70[m]\n"
     ]
    }
   ],
   "source": [
    "# 例題：金星(≒ 4140万[Km] :mean) 🪐\n",
    "target = 41400000000\n",
    "paper = 0.00008\n",
    "\n",
    "res_target, count = achieve_target(paper, target)\n",
    "print(count,'回　', '厚さ：{:.2f}[m]'.format(res_target))"
   ]
  },
  {
   "cell_type": "markdown",
   "metadata": {},
   "source": [
    "---\n",
    "## 【問題3】必要な紙の長さ"
   ]
  },
  {
   "cell_type": "code",
   "execution_count": null,
   "metadata": {},
   "outputs": [],
   "source": [
    "import numpy as np\n",
    "\n",
    "paper =  0.00008\n",
    "n = 26\n",
    "\n",
    "l = ((2**n) + 4) * ((2**n) - 1)\n",
    "need_thickness = (np.pi*paper)/6 * l\n",
    "\n",
    "print('要紙の長さ：', need_thickness, '[m]')"
   ]
  },
  {
   "cell_type": "markdown",
   "metadata": {},
   "source": [
    "> その他のΠ\n",
    "> ```python\n",
    "> import math\n",
    "> pi = math.pi # Π\n",
    ">```"
   ]
  },
  {
   "cell_type": "code",
   "execution_count": 8,
   "metadata": {},
   "outputs": [
    {
     "name": "stdout",
     "output_type": "stream",
     "text": [
      "要 紙の長さ： 188646348487.24017 [m]\n",
      "要 紙の長さ： 3.240919444170781e+21 [m]\n",
      "要 紙の長さ： 1.3274806043319064e+25 [m]\n"
     ]
    }
   ],
   "source": [
    "import numpy as np\n",
    "\n",
    "def necessary_paper(paper, distance):\n",
    "    _, n = achieve_target(paper, distance)\n",
    "    l = ((2**n) + 4) * ((2**n) - 1)\n",
    "    need_thickness = (np.pi*paper)/6 * l\n",
    "    return need_thickness\n",
    "\n",
    "paper = 0.00008\n",
    "# ⛰富士山\n",
    "distance = 3776\n",
    "print('要 紙の長さ：', necessary_paper(paper, distance), '[m]')\n",
    "# 🌕月\n",
    "distance = 384400000\n",
    "print('要 紙の長さ：', necessary_paper(paper, distance), '[m]')\n",
    "# 🪐惑星\n",
    "distance = 41400000000\n",
    "print('要 紙の長さ：', necessary_paper(paper, distance), '[m]')"
   ]
  }
 ],
 "metadata": {
  "kernelspec": {
   "display_name": "Python 3",
   "language": "python",
   "name": "python3"
  },
  "language_info": {
   "codemirror_mode": {
    "name": "ipython",
    "version": 3
   },
   "file_extension": ".py",
   "mimetype": "text/x-python",
   "name": "python",
   "nbconvert_exporter": "python",
   "pygments_lexer": "ipython3",
   "version": "3.8.5"
  }
 },
 "nbformat": 4,
 "nbformat_minor": 4
}
