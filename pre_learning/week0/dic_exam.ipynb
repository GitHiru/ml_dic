{
 "cells": [
  {
   "cell_type": "code",
   "execution_count": null,
   "metadata": {},
   "outputs": [],
   "source": [
    "import numpy as np\n",
    "\n",
    "a = np.array([[2,7],[1,8]])\n",
    "b = np.array([[2,8],[1,3]])\n",
    "\n",
    "c = np.dot(a, b)\n",
    "d = a * b\n",
    "\n",
    "print('ABの行列積')\n",
    "print(c)\n",
    "# [[11 37]\n",
    "#  [10 32]]\n",
    "\n",
    "print('ABのアダマール積')\n",
    "print(d)\n",
    "# [[ 4 56]\n",
    "#  [ 1 24]]\n",
    " \n",
    "print('ABの行列積の転置行列')\n",
    "print(c.T)\n",
    "# [[11 10]\n",
    "#  [37 32]]\n",
    "\n",
    "print('ABのアダマール積の転置行列')\n",
    "print(d.T)\n",
    "# [[ 4  1]\n",
    "#  [56 24]]\n"
   ]
  },
  {
   "cell_type": "code",
   "execution_count": null,
   "metadata": {},
   "outputs": [],
   "source": [
    "# try:\n",
    "#     row_number = int(input())\n",
    "# except ValueError:\n",
    "#     row_number = 3\n",
    "\n",
    "# for i in range(row_number):\n",
    "for i in range(3):\n",
    "    value = input().rstrip()\n",
    "\tpr = 'Your answer: ' \n",
    "\tprint(pr, value)"
   ]
  },
  {
   "cell_type": "code",
   "execution_count": null,
   "metadata": {},
   "outputs": [],
   "source": [
    "def check_sample(l):\n",
    "    try:\n",
    "        i = [float(s) for s in l]\n",
    "    except ValueError:\n",
    "        i = [0]\n",
    "    num_max = max(i)\n",
    "    num_min = min(i)\n",
    "    return num_max - num_min\n",
    "\n",
    "\n",
    "T = int(input())\n",
    "for i in range(T):\n",
    "    values = input().rstrip().split(' ')\n",
    "    # print(values)\n",
    "    result = check_sample(values)\n",
    "    # print('{:.1f}'.format(result))\n",
    "    print(round(result, 1))"
   ]
  },
  {
   "cell_type": "markdown",
   "metadata": {},
   "source": [
    "cf. [Pythonで文字列のリスト（配列）と数値のリストを相互に変換](https://note.nkmk.me/python-list-str-num-conversion/)"
   ]
  }
 ],
 "metadata": {
  "kernelspec": {
   "display_name": "Python 3",
   "language": "python",
   "name": "python3"
  },
  "language_info": {
   "codemirror_mode": {
    "name": "ipython",
    "version": 3
   },
   "file_extension": ".py",
   "mimetype": "text/x-python",
   "name": "python",
   "nbconvert_exporter": "python",
   "pygments_lexer": "ipython3",
   "version": "3.8.5"
  }
 },
 "nbformat": 4,
 "nbformat_minor": 4
}
